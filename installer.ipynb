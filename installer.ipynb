{
 "cells": [
  {
   "cell_type": "markdown",
   "id": "d2390150",
   "metadata": {},
   "source": [
    "# SAT Expansion Installer\n",
    "\n",
    "Install the the following resources:\n",
    "\n",
    "- Universal Sentence Encoder (version 4).\n",
    "- Pre-compiled model files.\n",
    "- CCP constitutions to generate the model files.\n"
   ]
  },
  {
   "cell_type": "markdown",
   "id": "cf53abb0",
   "metadata": {},
   "source": [
    "## Run installation"
   ]
  },
  {
   "cell_type": "code",
   "execution_count": null,
   "id": "7e59aabb",
   "metadata": {
    "scrolled": false
   },
   "outputs": [],
   "source": [
    "print(\"Installing the gdown package...\")\n",
    "!pip install --upgrade --no-cache-dir gdown\n",
    "print()\n",
    "\n",
    "# Data\n",
    "print(\"Downloading data...\")\n",
    "!gdown 'https://drive.google.com/uc?id=1GmNC4uyHnmxr60TXl-YRVZboqO0-t-fY' -O data.zip\n",
    "print(\"Unzipping data.zip...\")\n",
    "!unzip -o -q 'data.zip'\n",
    "print(\"Cleaning up...\")\n",
    "!rm 'data.zip'\n",
    "!rm -rf '__MACOSX'\n",
    "print()\n",
    "\n",
    "# Model\n",
    "print(\"Downloading model...\")\n",
    "!gdown 'https://drive.google.com/uc?id=1cmbhxM4VlOZcZY8lFjEPYYGFIAcoVP1g' -O model.zip\n",
    "print(\"Unzipping model.zip...\")\n",
    "!unzip -o -q 'model.zip'\n",
    "print(\"Cleaning up...\")\n",
    "!rm 'model.zip'\n",
    "!rm -rf '__MACOSX'\n",
    "print()\n",
    "\n",
    "# Download USE models \n",
    "print(\"Downloading USE models folder...\")\n",
    "!gdown --folder 'https://drive.google.com/drive/folders/1Xkk74OeKiOrlI6yFhMLw8ett7SUziKVc' --remaining-ok\n",
    "print(\"Renaming 'USE models' to 'encoders'...\")\n",
    "!mv \"USE models\" \"encoders\"\n",
    "print(\"Extracting zip files in encoders folder...\")\n",
    "!cd \"encoders\" && find . -name \"*.zip\" -exec unzip -o -q {} \\;\n",
    "print(\"Cleaning up zip files...\")\n",
    "!cd \"encoders\" && rm -f *.zip\n",
    "!rm -rf \"encoders/__MACOSX\"\n",
    "print()\n",
    "\n",
    "# Download spaCy models folder\n",
    "print(\"Downloading spaCy models folder...\")\n",
    "!gdown --folder 'https://drive.google.com/drive/folders/1f2ku1kn3Z9l0dBm89rH0-f3kxvaQeKi_' --remaining-ok\n",
    "print(\"Unzipping spaCy models...\")\n",
    "!cd \"spaCy models\" && find . -name \"*.zip\" -exec unzip -o -q {} \\;\n",
    "print(\"Cleaning up...\")\n",
    "!cd \"spaCy models\" && rm -f *.zip\n",
    "!rm -rf \"spaCy models/__MACOSX\"\n",
    "print()\n",
    "\n",
    "print(\"All downloads complete. You're good to go!\")"
   ]
  },
  {
   "cell_type": "code",
   "execution_count": null,
   "id": "b60bc711-0bad-4f04-a98e-6923cb4a0019",
   "metadata": {},
   "outputs": [],
   "source": []
  }
 ],
 "metadata": {
  "kernelspec": {
   "display_name": "Python 3 (ipykernel)",
   "language": "python",
   "name": "python3"
  },
  "language_info": {
   "codemirror_mode": {
    "name": "ipython",
    "version": 3
   },
   "file_extension": ".py",
   "mimetype": "text/x-python",
   "name": "python",
   "nbconvert_exporter": "python",
   "pygments_lexer": "ipython3",
   "version": "3.9.13"
  }
 },
 "nbformat": 4,
 "nbformat_minor": 5
}
