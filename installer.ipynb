{
 "cells": [
  {
   "cell_type": "markdown",
   "id": "d2390150",
   "metadata": {},
   "source": [
    "# SAT Installer\n",
    "\n",
    "Install the the following resources:\n",
    "\n",
    "- Universal Sentence Encoder (version 4).\n",
    "- Pre-compiled model files.\n",
    "- Constitutions and ontology used to generate the model files.\n"
   ]
  },
  {
   "cell_type": "markdown",
   "id": "cf53abb0",
   "metadata": {},
   "source": [
    "## Run installation"
   ]
  },
  {
   "cell_type": "code",
   "execution_count": null,
   "id": "7e59aabb",
   "metadata": {
    "scrolled": false
   },
   "outputs": [
    {
     "name": "stdout",
     "output_type": "stream",
     "text": [
      "Installing the gdown package...\n",
      "Requirement already satisfied: gdown in /Users/roygardner/opt/anaconda3/lib/python3.9/site-packages (5.2.0)\n",
      "Requirement already satisfied: beautifulsoup4 in /Users/roygardner/opt/anaconda3/lib/python3.9/site-packages (from gdown) (4.12.2)\n",
      "Requirement already satisfied: filelock in /Users/roygardner/opt/anaconda3/lib/python3.9/site-packages (from gdown) (3.12.2)\n",
      "Requirement already satisfied: requests[socks] in /Users/roygardner/opt/anaconda3/lib/python3.9/site-packages (from gdown) (2.28.1)\n",
      "Requirement already satisfied: tqdm in /Users/roygardner/opt/anaconda3/lib/python3.9/site-packages (from gdown) (4.64.1)\n",
      "Requirement already satisfied: soupsieve>1.2 in /Users/roygardner/opt/anaconda3/lib/python3.9/site-packages (from beautifulsoup4->gdown) (2.3.1)\n",
      "Requirement already satisfied: charset-normalizer<3,>=2 in /Users/roygardner/opt/anaconda3/lib/python3.9/site-packages (from requests[socks]->gdown) (2.0.4)\n",
      "Requirement already satisfied: idna<4,>=2.5 in /Users/roygardner/opt/anaconda3/lib/python3.9/site-packages (from requests[socks]->gdown) (3.3)\n",
      "Requirement already satisfied: urllib3<1.27,>=1.21.1 in /Users/roygardner/opt/anaconda3/lib/python3.9/site-packages (from requests[socks]->gdown) (1.26.11)\n",
      "Requirement already satisfied: certifi>=2017.4.17 in /Users/roygardner/opt/anaconda3/lib/python3.9/site-packages (from requests[socks]->gdown) (2023.5.7)\n",
      "Requirement already satisfied: PySocks!=1.5.7,>=1.5.6 in /Users/roygardner/opt/anaconda3/lib/python3.9/site-packages (from requests[socks]->gdown) (1.7.1)\n",
      "\n",
      "Downloading CCP data...\n",
      "Downloading...\n",
      "From (original): https://drive.google.com/uc?id=1ybr3O4mvmlBqybuWOjdS31pX420xf8Uo\n",
      "From (redirected): https://drive.google.com/uc?id=1ybr3O4mvmlBqybuWOjdS31pX420xf8Uo&confirm=t&uuid=31ac95d6-37aa-402c-9c7a-a45bb24ec11f\n",
      "To: /Users/roygardner/python/cicl/semantic/GitHub/SAT-Method-2/data.zip\n",
      "100%|██████████████████████████████████████| 32.1M/32.1M [00:19<00:00, 1.61MB/s]\n",
      "Unzipping data.zip...\n",
      "Cleaning up...\n",
      "\n",
      "Downloading CCP model...\n",
      "Downloading...\n",
      "From (original): https://drive.google.com/uc?id=1KeKZPjskMyd2hLfA6nfkDkTjIV1kPR31\n",
      "From (redirected): https://drive.google.com/uc?id=1KeKZPjskMyd2hLfA6nfkDkTjIV1kPR31&confirm=t&uuid=4458c603-851b-439d-acff-886856da3516\n",
      "To: /Users/roygardner/python/cicl/semantic/GitHub/SAT-Method-2/model.zip\n",
      " 32%|████████████▋                           | 272M/860M [02:58<06:47, 1.44MB/s]"
     ]
    }
   ],
   "source": [
    "print(\"Installing the gdown package...\")\n",
    "!pip install --upgrade --no-cache-dir gdown\n",
    "print()\n",
    "\n",
    "# Data - Constitutions, anarchist texts, and IPNs\n",
    "print(\"Downloading CCP data...\")\n",
    "!gdown 'https://drive.google.com/uc?id=1ybr3O4mvmlBqybuWOjdS31pX420xf8Uo' -O data.zip\n",
    "print(\"Unzipping data.zip...\")\n",
    "!unzip -o -q 'data.zip'\n",
    "print(\"Cleaning up...\")\n",
    "!rm 'data.zip'\n",
    "!rm -rf '__MACOSX'\n",
    "print()\n",
    "\n",
    "# CCP model\n",
    "print(\"Downloading CCP model...\")\n",
    "!gdown 'https://drive.google.com/uc?id=1KeKZPjskMyd2hLfA6nfkDkTjIV1kPR31' -O model.zip\n",
    "print(\"Unzipping model.zip...\")\n",
    "!unzip -o -q 'model.zip'\n",
    "print(\"Cleaning up...\")\n",
    "!rm 'model.zip'\n",
    "!rm -rf '__MACOSX'\n",
    "print()\n",
    "\n",
    "# Download USE models \n",
    "print(\"Downloading USE models folder...\")\n",
    "!gdown --folder 'https://drive.google.com/drive/folders/1Xkk74OeKiOrlI6yFhMLw8ett7SUziKVc' --remaining-ok\n",
    "print(\"Renaming 'USE models' to 'encoders'...\")\n",
    "!mv \"USE models\" \"encoders\"\n",
    "print(\"Extracting zip files in encoders folder...\")\n",
    "!cd \"encoders\" && find . -name \"*.zip\" -exec unzip -o -q {} \\;\n",
    "print(\"Cleaning up zip files...\")\n",
    "!cd \"encoders\" && rm -f *.zip\n",
    "!rm -rf \"encoders/__MACOSX\"\n",
    "print()\n",
    "\n",
    "# Download spaCy models folder\n",
    "print(\"Downloading spaCy models folder...\")\n",
    "!gdown --folder 'https://drive.google.com/drive/folders/1f2ku1kn3Z9l0dBm89rH0-f3kxvaQeKi_' --remaining-ok\n",
    "print(\"Unzipping spaCy models...\")\n",
    "!cd \"spaCy models\" && find . -name \"*.zip\" -exec unzip -o -q {} \\;\n",
    "print(\"Cleaning up...\")\n",
    "!cd \"spaCy models\" && rm -f *.zip\n",
    "!rm -rf \"spaCy models/__MACOSX\"\n",
    "print()\n",
    "\n",
    "print(\"All downloads complete. You're good to go!\")"
   ]
  },
  {
   "cell_type": "code",
   "execution_count": null,
   "id": "b60bc711-0bad-4f04-a98e-6923cb4a0019",
   "metadata": {},
   "outputs": [],
   "source": []
  }
 ],
 "metadata": {
  "kernelspec": {
   "display_name": "Python 3 (ipykernel)",
   "language": "python",
   "name": "python3"
  },
  "language_info": {
   "codemirror_mode": {
    "name": "ipython",
    "version": 3
   },
   "file_extension": ".py",
   "mimetype": "text/x-python",
   "name": "python",
   "nbconvert_exporter": "python",
   "pygments_lexer": "ipython3",
   "version": "3.9.13"
  }
 },
 "nbformat": 4,
 "nbformat_minor": 5
}
